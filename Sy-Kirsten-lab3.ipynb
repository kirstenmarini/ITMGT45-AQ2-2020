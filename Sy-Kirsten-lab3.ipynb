{
 "cells": [
  {
   "cell_type": "markdown",
   "metadata": {},
   "source": [
    "## 194760\n",
    "### SY\n",
    "### 2 BS ITE"
   ]
  },
  {
   "cell_type": "code",
   "execution_count": 14,
   "metadata": {},
   "outputs": [
    {
     "name": "stdout",
     "output_type": "stream",
     "text": [
      "From user 1:@bongolpoc\n",
      "To user 2:@chums\n",
      "followed by\n"
     ]
    }
   ],
   "source": [
    "social_graph = {\n",
    "    \"@bongolpoc\":{\"first_name\":\"Joselito\",\n",
    "                  \"last_name\":\"Olpoc\",\n",
    "                  \"following\":[\n",
    "                  ]\n",
    "    },\n",
    "    \"@joaquin\":  {\"first_name\":\"Joaquin\",\n",
    "                  \"last_name\":\"Gonzales\",\n",
    "                  \"following\":[\n",
    "                      \"@chums\",\"@jobenilagan\"\n",
    "                  ]\n",
    "    },\n",
    "    \"@chums\" : {\"first_name\":\"Matthew\",\n",
    "                \"last_name\":\"Uy\",\n",
    "                \"following\":[\n",
    "                    \"@bongolpoc\",\"@miketan\",\"@rudyang\",\"@joeilagan\"\n",
    "                ]\n",
    "    },\n",
    "    \"@jobenilagan\":{\"first_name\":\"Joben\",\n",
    "                   \"last_name\":\"Ilagan\",\n",
    "                   \"following\":[\n",
    "                    \"@eeebeee\",\"@joeilagan\",\"@chums\",\"@joaquin\"\n",
    "                   ]\n",
    "    },\n",
    "    \"@joeilagan\":{\"first_name\":\"Joe\",\n",
    "                  \"last_name\":\"Ilagan\",\n",
    "                  \"following\":[\n",
    "                    \"@eeebeee\",\"@jobenilagan\",\"@chums\"\n",
    "                  ]\n",
    "    },\n",
    "    \"@eeebeee\":  {\"first_name\":\"Elizabeth\",\n",
    "                  \"last_name\":\"Ilagan\",\n",
    "                  \"following\":[\n",
    "                    \"@jobenilagan\",\"@joeilagan\"\n",
    "                  ]\n",
    "    },\n",
    "}\n",
    "\n",
    "from_member= str(input(\"From user 1:\"))\n",
    "to_member= str(input(\"To user 2:\"))\n",
    "\n",
    "def relationship_status(from_member, to_member):\n",
    "    if from_member in social_graph [to_member][\"following\"] and to_member in social_graph [from_member][\"following\"]:\n",
    "        return \"friends\"\n",
    "    elif from_member in social_graph [to_member][\"following\"]:\n",
    "        return \"followed by\"\n",
    "    elif to_member in social_graph [from_member][\"following\"]:\n",
    "        return \"following\"\n",
    "    else: \n",
    "        return None\n",
    "    \n",
    "print (relationship_status(from_member, to_member))"
   ]
  },
  {
   "cell_type": "code",
   "execution_count": 182,
   "metadata": {},
   "outputs": [
    {
     "name": "stdout",
     "output_type": "stream",
     "text": [
      "O\n"
     ]
    }
   ],
   "source": [
    "board1 = [\n",
    "['X','X','O'],\n",
    "['O','X','O'],\n",
    "['O','','X'],\n",
    "]\n",
    "\n",
    "board2 = [\n",
    "['X','X','O'],\n",
    "['O','X','O'],\n",
    "['','O','X'],\n",
    "]\n",
    "\n",
    "board3 = [\n",
    "['O','X','O'],\n",
    "['','O','X'],\n",
    "['X','X','O'],\n",
    "]\n",
    "\n",
    "board4 = [\n",
    "['X','X','X'],\n",
    "['O','X','O'],\n",
    "['O','','O'],\n",
    "]\n",
    "\n",
    "board5 = [\n",
    "['X','X','O'],\n",
    "['O','X','O'],\n",
    "['X','','O'],\n",
    "]\n",
    "\n",
    "board6 = [\n",
    "['X','X','O'],\n",
    "['O','X','O'],\n",
    "['X','',''],\n",
    "]\n",
    "\n",
    "def get_winner(board):\n",
    "    winner = None\n",
    "    ##horizontals\n",
    "    for i in range(0,3):\n",
    "        if board[i]== ['X','X','X']:\n",
    "            return \"X\"\n",
    "        elif board[i]== ['O', 'O', 'O']:\n",
    "            return \"O\"\n",
    "            \n",
    "    ##diagonals\n",
    "    dud=[board[i][i] for i,v in enumerate(board)]\n",
    "    ddu=[board[2-i][i] for i, v in enumerate(board)]\n",
    "    if dud == ['X', 'X', 'X']:\n",
    "        return \"X\"\n",
    "    elif ddu == ['O', 'O', 'O']:\n",
    "        return \"O\"\n",
    "        \n",
    "    ##verticals\n",
    "    v= [x for x in zip(*board)]\n",
    "    if v[i] == ('X', 'X', 'X'):\n",
    "        return \"X\"\n",
    "    elif v[i] == ('O', 'O', 'O'):\n",
    "        return \"O\"\n",
    "\n",
    "\n",
    "print(get_winner(board5))"
   ]
  },
  {
   "cell_type": "code",
   "execution_count": 174,
   "metadata": {},
   "outputs": [
    {
     "name": "stdout",
     "output_type": "stream",
     "text": [
      "[[['X', 'X', 'O'], ['O', 'X', 'O'], ['O', '', 'X']]]\n",
      "[('X', 'O', 'X'), ('X', 'X', ''), ('O', 'O', 'O')]\n"
     ]
    }
   ],
   "source": [
    "    ##verticals\n",
    "    v= [x for x in zip(*board)]\n",
    "    print (v[i])\n",
    "    print (\"____________\")\n",
    "    for i in range (0,3):\n",
    "        if v[i] == ['X', 'X', 'X']:\n",
    "            return \"X\"\n",
    "        elif v[i] == ['O', 'O', 'O']:\n",
    "            return \"O\"\n",
    "\n",
    "\n",
    "print(get_winner(board5))"
   ]
  },
  {
   "cell_type": "code",
   "execution_count": 160,
   "metadata": {},
   "outputs": [
    {
     "ename": "SyntaxError",
     "evalue": "invalid syntax (<ipython-input-160-24cad1e78b54>, line 4)",
     "output_type": "error",
     "traceback": [
      "\u001b[0;36m  File \u001b[0;32m\"<ipython-input-160-24cad1e78b54>\"\u001b[0;36m, line \u001b[0;32m4\u001b[0m\n\u001b[0;31m    print([for x in board4])\u001b[0m\n\u001b[0m    ^\u001b[0m\n\u001b[0;31mSyntaxError\u001b[0m\u001b[0;31m:\u001b[0m invalid syntax\n"
     ]
    }
   ],
   "source": [
    "hor=[h for h in board4]\n",
    "print (all(s==3 for s in hor)\n",
    "## check horizontal\n",
    "print([for x in board4])\n",
    "hor=[x for x in board4]\n",
    "if hor==['X', 'X', 'X']:\n",
    "    print (\"F\")"
   ]
  },
  {
   "cell_type": "code",
   "execution_count": 161,
   "metadata": {},
   "outputs": [
    {
     "name": "stdout",
     "output_type": "stream",
     "text": [
      "X\n"
     ]
    }
   ],
   "source": [
    "## check diagonals\n",
    "dud=[board1[i][i] for i,v in enumerate(board4)]\n",
    "ddu=[board1[2-i][i] for i, v in enumerate(board4)]\n",
    "if dud == ['X', 'X', 'X']:\n",
    "    print (\"X\")\n",
    "elif ddu == ['O', 'O', 'O']:\n",
    "    print (\"O\")"
   ]
  },
  {
   "cell_type": "code",
   "execution_count": 162,
   "metadata": {},
   "outputs": [
    {
     "name": "stdout",
     "output_type": "stream",
     "text": [
      "['X', 'X', 'X']\n"
     ]
    },
    {
     "ename": "NameError",
     "evalue": "name 'board' is not defined",
     "output_type": "error",
     "traceback": [
      "\u001b[0;31m---------------------------------------------------------------------------\u001b[0m",
      "\u001b[0;31mNameError\u001b[0m                                 Traceback (most recent call last)",
      "\u001b[0;32m<ipython-input-162-8b9d408c90c0>\u001b[0m in \u001b[0;36m<module>\u001b[0;34m\u001b[0m\n\u001b[1;32m      3\u001b[0m \u001b[0;34m\u001b[0m\u001b[0m\n\u001b[1;32m      4\u001b[0m \u001b[0mprint\u001b[0m\u001b[0;34m(\u001b[0m\u001b[0;34m[\u001b[0m\u001b[0mboard1\u001b[0m\u001b[0;34m[\u001b[0m\u001b[0mi\u001b[0m\u001b[0;34m]\u001b[0m\u001b[0;34m[\u001b[0m\u001b[0mi\u001b[0m\u001b[0;34m]\u001b[0m \u001b[0;32mfor\u001b[0m \u001b[0mi\u001b[0m \u001b[0;32min\u001b[0m \u001b[0mrange\u001b[0m\u001b[0;34m(\u001b[0m\u001b[0;36m3\u001b[0m\u001b[0;34m)\u001b[0m\u001b[0;34m]\u001b[0m\u001b[0;34m)\u001b[0m\u001b[0;34m\u001b[0m\u001b[0;34m\u001b[0m\u001b[0m\n\u001b[0;32m----> 5\u001b[0;31m \u001b[0mx\u001b[0m \u001b[0;34m=\u001b[0m \u001b[0;34m[\u001b[0m\u001b[0mboard\u001b[0m\u001b[0;34m[\u001b[0m\u001b[0mi\u001b[0m\u001b[0;34m]\u001b[0m\u001b[0;34m[\u001b[0m\u001b[0mi\u001b[0m\u001b[0;34m]\u001b[0m \u001b[0;32mfor\u001b[0m \u001b[0mi\u001b[0m\u001b[0;34m,\u001b[0m\u001b[0mv\u001b[0m \u001b[0;32min\u001b[0m \u001b[0menumerate\u001b[0m\u001b[0;34m(\u001b[0m\u001b[0mboard\u001b[0m\u001b[0;34m)\u001b[0m\u001b[0;34m]\u001b[0m\u001b[0;34m\u001b[0m\u001b[0;34m\u001b[0m\u001b[0m\n\u001b[0m",
      "\u001b[0;31mNameError\u001b[0m: name 'board' is not defined"
     ]
    }
   ],
   "source": [
    "def get_winner(board):\n",
    "    winner = None\n",
    "    \n",
    "print([board1[i][i] for i in range(3)])\n",
    "x = [board[i][i] for i,v in enumerate(board)]"
   ]
  },
  {
   "cell_type": "code",
   "execution_count": 1,
   "metadata": {},
   "outputs": [
    {
     "name": "stdout",
     "output_type": "stream",
     "text": [
      "From (source): upd\n",
      "To (destination): dlsu\n",
      "45\n"
     ]
    }
   ],
   "source": [
    "locations = {\n",
    "    \"admu\":{\n",
    "        \"name\":\"Ateneo de Manila University\",\n",
    "        \"latitude\":14.6394557,\n",
    "        \"longitude\":121.0758975        \n",
    "    },\n",
    "    \"upd\":{\n",
    "        \"name\":\"University of the Philippines-Diliman Campus\",\n",
    "        \"latitude\":14.6538519,\n",
    "        \"longitude\":121.0663348\n",
    "    },\n",
    "    \"dlsu\":{\n",
    "        \"name\":\"De La Salle University-Taft\",\n",
    "        \"latitude\":14.5647346,\n",
    "        \"longitude\":120.9909876\n",
    "\n",
    "    },\n",
    "}\n",
    "\n",
    "legs = {\n",
    "     (\"upd\",\"admu\"):{\n",
    "         \"travel_time_mins\":10\n",
    "     },\n",
    "     (\"admu\",\"dlsu\"):{\n",
    "         \"travel_time_mins\":35\n",
    "     },\n",
    "     (\"dlsu\",\"upd\"):{\n",
    "         \"travel_time_mins\":55\n",
    "     }\n",
    "}\n",
    "\n",
    "source=input(\"From (source): \")\n",
    "destination=input(\"To (destination): \")\n",
    "\n",
    "def eta(source,destination):\n",
    "    pass\n",
    "    if(source == \"upd\"):\n",
    "        source = (\"upd\",\"admu\")\n",
    "    elif(source == \"admu\"):\n",
    "        source = (\"admu\",\"dlsu\")\n",
    "    elif(source == \"dlsu\"):\n",
    "        source = (\"dlsu\",\"upd\")\n",
    "\n",
    "    if(destination == \"admu\"):\n",
    "        destination = (\"upd\",\"admu\")\n",
    "    elif(destination == \"dlsu\"):\n",
    "        destination = (\"admu\",\"dlsu\")\n",
    "    elif(destination == \"upd\"):\n",
    "        destination = (\"dlsu\",\"upd\")\n",
    "    \n",
    "    if source == destination:\n",
    "        time =legs[source][\"travel_time_mins\"]\n",
    "    elif source != destination:\n",
    "        time=legs[source][\"travel_time_mins\"] + legs[destination][\"travel_time_mins\"]\n",
    "    return time\n",
    "\n",
    "print (eta(source,destination))"
   ]
  },
  {
   "cell_type": "code",
   "execution_count": null,
   "metadata": {},
   "outputs": [],
   "source": []
  }
 ],
 "metadata": {
  "kernelspec": {
   "display_name": "Python 3",
   "language": "python",
   "name": "python3"
  },
  "language_info": {
   "codemirror_mode": {
    "name": "ipython",
    "version": 3
   },
   "file_extension": ".py",
   "mimetype": "text/x-python",
   "name": "python",
   "nbconvert_exporter": "python",
   "pygments_lexer": "ipython3",
   "version": "3.8.3"
  }
 },
 "nbformat": 4,
 "nbformat_minor": 4
}
