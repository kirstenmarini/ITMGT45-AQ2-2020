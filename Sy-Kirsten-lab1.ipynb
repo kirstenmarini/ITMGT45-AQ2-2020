{
 "cells": [
  {
   "cell_type": "markdown",
   "metadata": {},
   "source": [
    "### 194760\n",
    "`SY\n",
    "2 BS ITE`"
   ]
  },
  {
   "cell_type": "code",
   "execution_count": 76,
   "metadata": {
    "scrolled": false
   },
   "outputs": [
    {
     "name": "stdout",
     "output_type": "stream",
     "text": [
      "Enter the amount in US Dollars20\n",
      "20.0 US dollar(s) = 1000.0 Philippine Pesos\n"
     ]
    }
   ],
   "source": [
    "#Problem1\n",
    "def dollars_to_pesos(usd):\n",
    "    return usd*50\n",
    "\n",
    "usd=float(input(\"Enter the amount in US Dollars\"))\n",
    "print(usd,\"US dollar(s) =\", dollars_to_pesos(usd),\"Philippine Pesos\")"
   ]
  },
  {
   "cell_type": "code",
   "execution_count": 78,
   "metadata": {},
   "outputs": [
    {
     "name": "stdout",
     "output_type": "stream",
     "text": [
      "First integer:128\n",
      "Second integer:8\n",
      "136\n",
      "120\n",
      "1024\n",
      "16\n",
      "0\n"
     ]
    }
   ],
   "source": [
    "#Problem2\n",
    "a=int(input(\"First integer:\"))\n",
    "b=int(input(\"Second integer:\"))\n",
    "\n",
    "print(a+b)\n",
    "print(a-b)\n",
    "print(a*b)\n",
    "print(a//b)\n",
    "print(a%b)"
   ]
  },
  {
   "cell_type": "code",
   "execution_count": 84,
   "metadata": {},
   "outputs": [
    {
     "name": "stdout",
     "output_type": "stream",
     "text": [
      "Enter kg:70\n",
      "Enter cm:170\n",
      "BMI: 24.221453287197235\n"
     ]
    }
   ],
   "source": [
    "#Problem3 \n",
    "def compute_bmi(kg,m):\n",
    "    return kg/m**2\n",
    "\n",
    "def convert_cm_to_m(cm):\n",
    "    return cm/100\n",
    "\n",
    "kg=float(input(\"Enter kg:\"))\n",
    "cm=float(input(\"Enter cm:\"))\n",
    "m=convert_cm_to_m(cm)\n",
    "bmi=compute_bmi(kg,m)\n",
    "print(\"BMI:\",bmi)"
   ]
  },
  {
   "cell_type": "code",
   "execution_count": 86,
   "metadata": {},
   "outputs": [
    {
     "name": "stdout",
     "output_type": "stream",
     "text": [
      "Enter kg:65\n",
      "Enter cm:180\n",
      "BMI: 20.061728395061728\n"
     ]
    }
   ],
   "source": [
    "#Problem3-Shortcut\n",
    "def compute_bmi(kg):\n",
    "    return kg/convert_cm_to_m(cm)**2\n",
    "\n",
    "def convert_cm_to_m(cm):\n",
    "    return cm/100\n",
    "\n",
    "kg=float(input(\"Enter kg:\"))\n",
    "cm=float(input(\"Enter cm:\"))\n",
    "print(\"BMI:\",compute_bmi(kg))"
   ]
  },
  {
   "cell_type": "code",
   "execution_count": null,
   "metadata": {},
   "outputs": [],
   "source": []
  }
 ],
 "metadata": {
  "kernelspec": {
   "display_name": "Python 3",
   "language": "python",
   "name": "python3"
  },
  "language_info": {
   "codemirror_mode": {
    "name": "ipython",
    "version": 3
   },
   "file_extension": ".py",
   "mimetype": "text/x-python",
   "name": "python",
   "nbconvert_exporter": "python",
   "pygments_lexer": "ipython3",
   "version": "3.8.3"
  }
 },
 "nbformat": 4,
 "nbformat_minor": 4
}
